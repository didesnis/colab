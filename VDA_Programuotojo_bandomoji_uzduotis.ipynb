{
  "nbformat": 4,
  "nbformat_minor": 0,
  "metadata": {
    "colab": {
      "provenance": [],
      "authorship_tag": "ABX9TyNfhEBYL+6qnLlfVJ9e8yGL",
      "include_colab_link": true
    },
    "kernelspec": {
      "name": "python3",
      "display_name": "Python 3"
    },
    "language_info": {
      "name": "python"
    }
  },
  "cells": [
    {
      "cell_type": "markdown",
      "metadata": {
        "id": "view-in-github",
        "colab_type": "text"
      },
      "source": [
        "<a href=\"https://colab.research.google.com/github/didesnis/colab/blob/master/VDA_Programuotojo_bandomoji_uzduotis.ipynb\" target=\"_parent\"><img src=\"https://colab.research.google.com/assets/colab-badge.svg\" alt=\"Open In Colab\"/></a>"
      ]
    },
    {
      "cell_type": "markdown",
      "source": [
        "\n",
        "# Naudinga informacija\n",
        "- Prieš pradėdami spręsti, **pasidarykite** šio Google Colab notebooko **kopiją**.\n",
        "- Atlikę užduotis, suteikite mums teises ir atsiųskite nuorodą.\n",
        "- Vertinsime sprendimo atitikimą užduoties sąlygoms, programavimo stilių, darbo su duomenimis įgūdžius.\n",
        "\n",
        "---\n",
        "\n",
        "# Reikalavimai ir resursai\n",
        "\n",
        "Šioms užduotims atlikti būtina naudoti **Python** ir **PySpark** biblioteką.\n",
        "\n",
        "## Resursai\n",
        "\n",
        "1) Nacionalinės švietimo agentūros lentelė su pedagogų kvalifikacija pagal savivaldybes. Lentelės aprašymas: https://data.gov.lt/dataset/pedagogu-kvalifikacija\n",
        "\n",
        "2) Elektromobilių įkrovos stotelių duomenys. Aprašymas: https://maps.eismoinfo.lt/portal/apps/sites/#/npp/pages/charge\n",
        "\n",
        "---\n",
        "\n",
        "# Užduotys\n",
        "\n",
        "## Pedagogų registras _(junior)_\n",
        "\n",
        "1. Sutvarkyti pedagogų kvalifikacijos lentelę:\n",
        "  - Jei tekstiniuose laukuose reikšmė yra `null`, ją pakeisti tekstu \"Nenurodyta\".\n",
        "  - Stulpelius pervadinti į `snake_case` stilių.\n",
        "  - Nustatyti tinkamus stulpelių duomenų tipus.\n",
        "  - Papildomai atlikti transformacijas, kurios, jūsų manymu, būtų naudingos (pvz., išrinkti tik tokius stulpelius, kurie bus naudojami).\n",
        "\n",
        "2. Paruošti lentelę, rodančią mokytojų kiekį kiekvienoje savivaldybėje (naudokite tik tokius įrašus, kurių lauko `pd_pareigu_grupe` reikšmė yra \"Mokytojai\") ir visoje Lietuvoje.\n",
        "\n",
        "\n",
        "## Pedagogai 2 _(mid-level)_\n",
        "\n",
        "1. Sutvarkyti pedagogų kvalifikacijos lentelę:\n",
        "  - Jei tekstiniuose laukuose reikšmė yra `null` arba _falsy_ (pasidomėkite, ką tai reiškia Python aplinkoje), ją pakeisti tekstu \"Nenurodyta\".\n",
        "  - Stulpelių vardus __automatizuotai__ pervadinti į `snake_case` stilių, taip, kad jūsų sprendimas veiktų ir jei lentelė pasipildytų su daugiau analogiškai užvardintų stulpelių.\n",
        "  - Nustatyti tinkamus stulpelių duomenų tipus.\n",
        "  - Papildomai atlikti transformacijas, kurios, jūsų manymu, būtų naudingos (pvz., išrinkti tik tokius stulpelius, kurie bus naudojami).\n",
        "\n",
        "2. Paruošti __vieną__ lentelę, rodančią:\n",
        "  - mokytojų kiekį kiekvienoje savivaldybėje (naudokite tik tokius įrašus, kurių lauko `pd_pareigu_grupe` reikšmė yra \"Mokytojai\") ir visoje Lietuvoje, ir\n",
        "  - mokytojų procentinę dalį (nuo visos Lietuvos), tenkančią kiekvienai savivaldybei.\n",
        "\n",
        "3. Kaip kitaip būtų galima saugoti šiuos duomenis? Parašykite transformaciją ir pakomentuokite, kokiomis sąlygomis jūsų pasiūlytas variantas būtų geresnis už naudojamą dabar. O kokiomis sąlygomis geriau geriau naudoti esamą formatą?\n",
        "\n",
        "\n",
        "## Elektromobilių įkrovos stotelių duomenys _(senior)_\n",
        "\n",
        "1. Paversti duomenis iš XML formato į `Spark DataFrame` lentelę ir sutvarkyti taip:\n",
        "  - Jei tekstiniuose laukuose reikšmė yra `null` arba _falsy_, ją pakeisti tekstu \"Nenurodyta\".\n",
        "  - Stulpelių pavadinimus __automatizuotai__ pervadinti `snake_case` stiliumi.\n",
        "  - Nustatyti tinkamus stulpelių duomenų tipus.\n",
        "2. Parašyti transformaciją, kuri iš šios lentelės sugeneruotų lentelę, parodančią visus kiekviename stulpelyje rastus simbolius. Išvesties lentelė turi atrodyti taip:\n",
        "  - Du stulpeliai, `name` ir `contents`.\n",
        "  - Kiekvienas pradinės lentelės stulpelis gauna atskirą eilutę, stulpelio pavadinimas nurodomas `name`.\n",
        "  - Visi kiekviename stulpelyje rasti unikalūs simboliai parodomi `contents` stulpelyje.\n",
        "3. Pakomentuokite apie 2-ame klausime jūsų pasirinkto sprendimo efektyvumą: su kokiais duomenų rinkiniais jūsų algoritmas būtų optimalus, o kada būtų geresnis kitoks sprendimas?"
      ],
      "metadata": {
        "id": "c_YbBMqIKFGt"
      }
    },
    {
      "cell_type": "markdown",
      "source": [
        "# Įkeliame į \"Files\" prie \"Sample data\" darbinį dokumentą \"Pedagogu kvalifikacija-12-lt-lt.csv"
      ],
      "metadata": {
        "id": "aHsrrlfX1pGb"
      }
    },
    {
      "cell_type": "markdown",
      "source": [
        "# Įrašome PySpark biblioteką"
      ],
      "metadata": {
        "id": "TqUXcHYp1wqZ"
      }
    },
    {
      "cell_type": "code",
      "source": [
        "pip install pyspark"
      ],
      "metadata": {
        "colab": {
          "base_uri": "https://localhost:8080/"
        },
        "id": "zkw0Rqy61tYV",
        "outputId": "dfdff224-6687-4143-b295-ad109b354fe2"
      },
      "execution_count": null,
      "outputs": [
        {
          "output_type": "stream",
          "name": "stdout",
          "text": [
            "Collecting pyspark\n",
            "  Downloading pyspark-3.5.0.tar.gz (316.9 MB)\n",
            "\u001b[2K     \u001b[90m━━━━━━━━━━━━━━━━━━━━━━━━━━━━━━━━━━━━━━━\u001b[0m \u001b[32m316.9/316.9 MB\u001b[0m \u001b[31m4.4 MB/s\u001b[0m eta \u001b[36m0:00:00\u001b[0m\n",
            "\u001b[?25h  Preparing metadata (setup.py) ... \u001b[?25l\u001b[?25hdone\n",
            "Requirement already satisfied: py4j==0.10.9.7 in /usr/local/lib/python3.10/dist-packages (from pyspark) (0.10.9.7)\n",
            "Building wheels for collected packages: pyspark\n",
            "  Building wheel for pyspark (setup.py) ... \u001b[?25l\u001b[?25hdone\n",
            "  Created wheel for pyspark: filename=pyspark-3.5.0-py2.py3-none-any.whl size=317425344 sha256=18747177b3f264db28eefbb565ddae4ddac92ce14c8e9a637ce95458bd507eda\n",
            "  Stored in directory: /root/.cache/pip/wheels/41/4e/10/c2cf2467f71c678cfc8a6b9ac9241e5e44a01940da8fbb17fc\n",
            "Successfully built pyspark\n",
            "Installing collected packages: pyspark\n",
            "Successfully installed pyspark-3.5.0\n"
          ]
        }
      ]
    },
    {
      "cell_type": "markdown",
      "source": [
        "# Nuskaitome CSV failą, kad matytume su kokiais stulpeliais teks dirbti"
      ],
      "metadata": {
        "id": "ObGqOFPN11Ow"
      }
    },
    {
      "cell_type": "code",
      "source": [
        "# Paleidžiame PySpark ir nuskaitome dokumentą\n",
        "from pyspark.sql import SparkSession\n",
        "spark = SparkSession.builder.appName(\"ReadCSV\").getOrCreate()\n",
        "file_path = \"/content/Pedagogu kvalifikacija-12-lt-lt.csv\"\n",
        "# Į \"Header\" iškeliame stulpelių pavadinimus, atskiriame duomenis į atskirus stulpelius\n",
        "df = spark.read.option(\"header\", \"true\").option(\"delimiter\", \"\\t\").csv(file_path)\n",
        "# Parodome duomenis\n",
        "df.show()"
      ],
      "metadata": {
        "colab": {
          "base_uri": "https://localhost:8080/"
        },
        "id": "Ye30r3OK1222",
        "outputId": "c4330112-772b-4c50-b1dd-9d0ad902f823"
      },
      "execution_count": null,
      "outputs": [
        {
          "output_type": "stream",
          "name": "stdout",
          "text": [
            "+---------------+-------------------------------+---------------------------+-------------------+--------------------+---------------------------------------------------------------+--------------------+\n",
            "|Pd Mokslo metai|Pd Institucijos savivaldybės ID|Pd Institucijos savivaldybė|Pd Pareigų grupė ID|    Pd Pareigų grupė|Pd Pedagogo kvalifikacinė kategorija (aukščiausia ir naujausia)|Pd Pedagogų skaičius|\n",
            "+---------------+-------------------------------+---------------------------+-------------------+--------------------+---------------------------------------------------------------+--------------------+\n",
            "|      2012-2013|                              0|                       NULL|                 42|           Mokytojai|                                                      Mokytojas|                   1|\n",
            "|      2012-2013|                            260|            Akmenės r. sav.|                 16|Auklėtojai, nedės...|                                           Auklėtojas metodi...|                   1|\n",
            "|      2012-2013|                            260|            Akmenės r. sav.|                 16|Auklėtojai, nedės...|                                           Specialusis pedag...|                   1|\n",
            "|      2012-2013|                            260|            Akmenės r. sav.|                 16|Auklėtojai, nedės...|                                           Vyresnysis auklėt...|                   1|\n",
            "|      2012-2013|                            260|            Akmenės r. sav.|                 16|Auklėtojai, nedės...|                                           Vyresnysis specia...|                   1|\n",
            "|      2012-2013|                            260|            Akmenės r. sav.|                 29|Direktoriaus pava...|                                           Auklėtojas metodi...|                   1|\n",
            "|      2012-2013|                            260|            Akmenės r. sav.|                 28|         Direktorius|                                           Vyresnysis mokytojas|                   1|\n",
            "|      2012-2013|                            260|            Akmenės r. sav.|                 40|         Direktorius|                                           Mokytojas metodin...|                   2|\n",
            "|      2012-2013|                            260|            Akmenės r. sav.|                 30|Ikimokyklinio ugd...|                                                     Auklėtojas|                   7|\n",
            "|      2012-2013|                            260|            Akmenės r. sav.|                 30|Ikimokyklinio ugd...|                                           Auklėtojas metodi...|                   7|\n",
            "|      2012-2013|                            260|            Akmenės r. sav.|                 30|Ikimokyklinio ugd...|                                           Vyresnysis auklėt...|                  29|\n",
            "|      2012-2013|                            260|            Akmenės r. sav.|                 30|Ikimokyklinio ugd...|                                           Vyresnysis mokytojas|                   2|\n",
            "|      2012-2013|                            260|            Akmenės r. sav.|                  5|      Kiti pedagogai|                                                      Mokytojas|                   1|\n",
            "|      2012-2013|                            260|            Akmenės r. sav.|                  6|      Kiti pedagogai|                                           Vyresnysis mokytojas|                   2|\n",
            "|      2012-2013|                            260|            Akmenės r. sav.|                 39|Kiti pedagoginiai...|                                           Auklėtojas metodi...|                   1|\n",
            "|      2012-2013|                            260|            Akmenės r. sav.|                 39|Kiti pedagoginiai...|                                           Vyresnysis auklėt...|                   2|\n",
            "|      2012-2013|                            260|            Akmenės r. sav.|                  8|           Logopedai|                                           Logopedas metodin...|                   3|\n",
            "|      2012-2013|                            260|            Akmenės r. sav.|                  8|           Logopedai|                                           Socialinis pedagogas|                   1|\n",
            "|      2012-2013|                            260|            Akmenės r. sav.|                  8|           Logopedai|                                           Vyresnysis logopedas|                   1|\n",
            "|      2012-2013|                            260|            Akmenės r. sav.|                 36|           Logopedai|                                                      Logopedas|                   1|\n",
            "+---------------+-------------------------------+---------------------------+-------------------+--------------------+---------------------------------------------------------------+--------------------+\n",
            "only showing top 20 rows\n",
            "\n"
          ]
        }
      ]
    },
    {
      "cell_type": "markdown",
      "source": [
        "# Jei tekstiniuose laukuose reikšmė yra null, ją pakeičiame tekstu \"Nenurodyta\"."
      ],
      "metadata": {
        "id": "6AfC-btR1_IK"
      }
    },
    {
      "cell_type": "code",
      "source": [
        "columns_to_fill = [\n",
        "    \"Pd Mokslo metai\",\n",
        "    \"Pd Institucijos savivaldybės ID\",\n",
        "    \"Pd Institucijos savivaldybė\",\n",
        "    \"Pd Pareigų grupė ID\",\n",
        "    \"Pd Pareigų grupė\",\n",
        "    \"Pd Pedagogo kvalifikacinė kategorija (aukščiausia ir naujausia)\",\n",
        "    \"Pd Pedagogų skaičius\"\n",
        "]\n",
        "# Užpildome visus null stulpelius nauja reikšme\n",
        "df = df.fillna('Nenurodyta', subset=columns_to_fill)\n",
        "df.show()"
      ],
      "metadata": {
        "colab": {
          "base_uri": "https://localhost:8080/"
        },
        "id": "qonRsc9g2ChA",
        "outputId": "254d754d-7115-4baa-e3ed-ae7c9e1ff617"
      },
      "execution_count": null,
      "outputs": [
        {
          "output_type": "stream",
          "name": "stdout",
          "text": [
            "+---------------+-------------------------------+---------------------------+-------------------+--------------------+---------------------------------------------------------------+--------------------+\n",
            "|Pd Mokslo metai|Pd Institucijos savivaldybės ID|Pd Institucijos savivaldybė|Pd Pareigų grupė ID|    Pd Pareigų grupė|Pd Pedagogo kvalifikacinė kategorija (aukščiausia ir naujausia)|Pd Pedagogų skaičius|\n",
            "+---------------+-------------------------------+---------------------------+-------------------+--------------------+---------------------------------------------------------------+--------------------+\n",
            "|      2012-2013|                              0|                 Nenurodyta|                 42|           Mokytojai|                                                      Mokytojas|                   1|\n",
            "|      2012-2013|                            260|            Akmenės r. sav.|                 16|Auklėtojai, nedės...|                                           Auklėtojas metodi...|                   1|\n",
            "|      2012-2013|                            260|            Akmenės r. sav.|                 16|Auklėtojai, nedės...|                                           Specialusis pedag...|                   1|\n",
            "|      2012-2013|                            260|            Akmenės r. sav.|                 16|Auklėtojai, nedės...|                                           Vyresnysis auklėt...|                   1|\n",
            "|      2012-2013|                            260|            Akmenės r. sav.|                 16|Auklėtojai, nedės...|                                           Vyresnysis specia...|                   1|\n",
            "|      2012-2013|                            260|            Akmenės r. sav.|                 29|Direktoriaus pava...|                                           Auklėtojas metodi...|                   1|\n",
            "|      2012-2013|                            260|            Akmenės r. sav.|                 28|         Direktorius|                                           Vyresnysis mokytojas|                   1|\n",
            "|      2012-2013|                            260|            Akmenės r. sav.|                 40|         Direktorius|                                           Mokytojas metodin...|                   2|\n",
            "|      2012-2013|                            260|            Akmenės r. sav.|                 30|Ikimokyklinio ugd...|                                                     Auklėtojas|                   7|\n",
            "|      2012-2013|                            260|            Akmenės r. sav.|                 30|Ikimokyklinio ugd...|                                           Auklėtojas metodi...|                   7|\n",
            "|      2012-2013|                            260|            Akmenės r. sav.|                 30|Ikimokyklinio ugd...|                                           Vyresnysis auklėt...|                  29|\n",
            "|      2012-2013|                            260|            Akmenės r. sav.|                 30|Ikimokyklinio ugd...|                                           Vyresnysis mokytojas|                   2|\n",
            "|      2012-2013|                            260|            Akmenės r. sav.|                  5|      Kiti pedagogai|                                                      Mokytojas|                   1|\n",
            "|      2012-2013|                            260|            Akmenės r. sav.|                  6|      Kiti pedagogai|                                           Vyresnysis mokytojas|                   2|\n",
            "|      2012-2013|                            260|            Akmenės r. sav.|                 39|Kiti pedagoginiai...|                                           Auklėtojas metodi...|                   1|\n",
            "|      2012-2013|                            260|            Akmenės r. sav.|                 39|Kiti pedagoginiai...|                                           Vyresnysis auklėt...|                   2|\n",
            "|      2012-2013|                            260|            Akmenės r. sav.|                  8|           Logopedai|                                           Logopedas metodin...|                   3|\n",
            "|      2012-2013|                            260|            Akmenės r. sav.|                  8|           Logopedai|                                           Socialinis pedagogas|                   1|\n",
            "|      2012-2013|                            260|            Akmenės r. sav.|                  8|           Logopedai|                                           Vyresnysis logopedas|                   1|\n",
            "|      2012-2013|                            260|            Akmenės r. sav.|                 36|           Logopedai|                                                      Logopedas|                   1|\n",
            "+---------------+-------------------------------+---------------------------+-------------------+--------------------+---------------------------------------------------------------+--------------------+\n",
            "only showing top 20 rows\n",
            "\n"
          ]
        }
      ]
    },
    {
      "cell_type": "markdown",
      "source": [
        "# Stulpelius pervadiname į snake_case stilių."
      ],
      "metadata": {
        "id": "OF-6ZGw92pTF"
      }
    },
    {
      "cell_type": "code",
      "source": [
        "# Importuojame naują funkciją \"col\", darbui su stulpeliais\n",
        "from pyspark.sql.functions import col\n",
        "# Apsirašome funkciją stulpeliu pervadinimui\n",
        "def to_snake_case(column_name):\n",
        "    return column_name.lower().replace(\" \", \"_\")\n",
        "# Pritaikome snake_case stilių stulpeliams ir stulpelius perrašome mažosiomis raidėmis\n",
        "new_columns = [col(column_name).alias(to_snake_case(column_name)) for column_name in df.columns]\n",
        "df = df.select(*new_columns)\n",
        "df.show()\n"
      ],
      "metadata": {
        "colab": {
          "base_uri": "https://localhost:8080/"
        },
        "id": "KE529V0F2r-M",
        "outputId": "f08c216b-5901-438e-b986-c6babc7e48a9"
      },
      "execution_count": null,
      "outputs": [
        {
          "output_type": "stream",
          "name": "stdout",
          "text": [
            "+---------------+-------------------------------+---------------------------+-------------------+--------------------+---------------------------------------------------------------+--------------------+\n",
            "|pd_mokslo_metai|pd_institucijos_savivaldybės_id|pd_institucijos_savivaldybė|pd_pareigų_grupė_id|    pd_pareigų_grupė|pd_pedagogo_kvalifikacinė_kategorija_(aukščiausia_ir_naujausia)|pd_pedagogų_skaičius|\n",
            "+---------------+-------------------------------+---------------------------+-------------------+--------------------+---------------------------------------------------------------+--------------------+\n",
            "|      2012-2013|                              0|                 Nenurodyta|                 42|           Mokytojai|                                                      Mokytojas|                   1|\n",
            "|      2012-2013|                            260|            Akmenės r. sav.|                 16|Auklėtojai, nedės...|                                           Auklėtojas metodi...|                   1|\n",
            "|      2012-2013|                            260|            Akmenės r. sav.|                 16|Auklėtojai, nedės...|                                           Specialusis pedag...|                   1|\n",
            "|      2012-2013|                            260|            Akmenės r. sav.|                 16|Auklėtojai, nedės...|                                           Vyresnysis auklėt...|                   1|\n",
            "|      2012-2013|                            260|            Akmenės r. sav.|                 16|Auklėtojai, nedės...|                                           Vyresnysis specia...|                   1|\n",
            "|      2012-2013|                            260|            Akmenės r. sav.|                 29|Direktoriaus pava...|                                           Auklėtojas metodi...|                   1|\n",
            "|      2012-2013|                            260|            Akmenės r. sav.|                 28|         Direktorius|                                           Vyresnysis mokytojas|                   1|\n",
            "|      2012-2013|                            260|            Akmenės r. sav.|                 40|         Direktorius|                                           Mokytojas metodin...|                   2|\n",
            "|      2012-2013|                            260|            Akmenės r. sav.|                 30|Ikimokyklinio ugd...|                                                     Auklėtojas|                   7|\n",
            "|      2012-2013|                            260|            Akmenės r. sav.|                 30|Ikimokyklinio ugd...|                                           Auklėtojas metodi...|                   7|\n",
            "|      2012-2013|                            260|            Akmenės r. sav.|                 30|Ikimokyklinio ugd...|                                           Vyresnysis auklėt...|                  29|\n",
            "|      2012-2013|                            260|            Akmenės r. sav.|                 30|Ikimokyklinio ugd...|                                           Vyresnysis mokytojas|                   2|\n",
            "|      2012-2013|                            260|            Akmenės r. sav.|                  5|      Kiti pedagogai|                                                      Mokytojas|                   1|\n",
            "|      2012-2013|                            260|            Akmenės r. sav.|                  6|      Kiti pedagogai|                                           Vyresnysis mokytojas|                   2|\n",
            "|      2012-2013|                            260|            Akmenės r. sav.|                 39|Kiti pedagoginiai...|                                           Auklėtojas metodi...|                   1|\n",
            "|      2012-2013|                            260|            Akmenės r. sav.|                 39|Kiti pedagoginiai...|                                           Vyresnysis auklėt...|                   2|\n",
            "|      2012-2013|                            260|            Akmenės r. sav.|                  8|           Logopedai|                                           Logopedas metodin...|                   3|\n",
            "|      2012-2013|                            260|            Akmenės r. sav.|                  8|           Logopedai|                                           Socialinis pedagogas|                   1|\n",
            "|      2012-2013|                            260|            Akmenės r. sav.|                  8|           Logopedai|                                           Vyresnysis logopedas|                   1|\n",
            "|      2012-2013|                            260|            Akmenės r. sav.|                 36|           Logopedai|                                                      Logopedas|                   1|\n",
            "+---------------+-------------------------------+---------------------------+-------------------+--------------------+---------------------------------------------------------------+--------------------+\n",
            "only showing top 20 rows\n",
            "\n"
          ]
        }
      ]
    },
    {
      "cell_type": "markdown",
      "source": [
        "# Nustatome tinkamus stulpelių duomenų tipus."
      ],
      "metadata": {
        "id": "AnP1ZidG2zaC"
      }
    },
    {
      "cell_type": "code",
      "source": [
        "# Nuskaitome esamus stulpelių duomenu tipus\n",
        "df.printSchema()"
      ],
      "metadata": {
        "colab": {
          "base_uri": "https://localhost:8080/"
        },
        "id": "vXV9vHhL219k",
        "outputId": "677269fa-a8e2-49c2-fab5-63a122934242"
      },
      "execution_count": null,
      "outputs": [
        {
          "output_type": "stream",
          "name": "stdout",
          "text": [
            "root\n",
            " |-- pd_mokslo_metai: string (nullable = false)\n",
            " |-- pd_institucijos_savivaldybės_id: string (nullable = false)\n",
            " |-- pd_institucijos_savivaldybė: string (nullable = false)\n",
            " |-- pd_pareigų_grupė_id: string (nullable = false)\n",
            " |-- pd_pareigų_grupė: string (nullable = false)\n",
            " |-- pd_pedagogo_kvalifikacinė_kategorija_(aukščiausia_ir_naujausia): string (nullable = false)\n",
            " |-- pd_pedagogų_skaičius: string (nullable = false)\n",
            "\n"
          ]
        }
      ]
    },
    {
      "cell_type": "code",
      "source": [
        "# Keičiame 2 stulpelių duomenų tipus iš tekstinio \"string\" į sveikąjį skaičių \"integer\"\n",
        "df = df.withColumn(\"pd_institucijos_savivaldybės_id\", df[\"pd_institucijos_savivaldybės_id\"].cast(\"integer\"))\n",
        "df = df.withColumn(\"pd_pareigų_grupė_id\", df[\"pd_pareigų_grupė_id\"].cast(\"integer\"))\n",
        "df = df.withColumn(\"pd_pedagogų_skaičius\", df[\"pd_pedagogų_skaičius\"].cast(\"integer\"))\n",
        "\n",
        "# Atvaizduojame pakeitimus\n",
        "df.printSchema()\n"
      ],
      "metadata": {
        "colab": {
          "base_uri": "https://localhost:8080/"
        },
        "id": "mRL-tJ0ZvxTf",
        "outputId": "8d30e019-7cae-4f3d-8ddb-c0c774eea7c7"
      },
      "execution_count": null,
      "outputs": [
        {
          "output_type": "stream",
          "name": "stdout",
          "text": [
            "root\n",
            " |-- pd_mokslo_metai: string (nullable = false)\n",
            " |-- pd_institucijos_savivaldybės_id: integer (nullable = true)\n",
            " |-- pd_institucijos_savivaldybė: string (nullable = false)\n",
            " |-- pd_pareigų_grupė_id: integer (nullable = true)\n",
            " |-- pd_pareigų_grupė: string (nullable = false)\n",
            " |-- pd_pedagogo_kvalifikacinė_kategorija_(aukščiausia_ir_naujausia): string (nullable = false)\n",
            " |-- pd_pedagogų_skaičius: string (nullable = false)\n",
            "\n"
          ]
        }
      ]
    },
    {
      "cell_type": "markdown",
      "source": [
        "# Papildomai atliekame transformacijas. Kadangi mus domins tik kiek mokytojų dirba Lietuvoje, pašaliname nereikalingus stulpelius"
      ],
      "metadata": {
        "id": "N95-pOFdlyyI"
      }
    },
    {
      "cell_type": "code",
      "source": [
        "# Pasirenkame stulpelius kurie mums reikalingi tolimesniam darbui\n",
        "selected_columns = [\n",
        "    \"pd_mokslo_metai\",\n",
        "    \"pd_institucijos_savivaldybė\",\n",
        "    \"pd_pedagogo_kvalifikacinė_kategorija_(aukščiausia_ir_naujausia)\",\n",
        "    \"pd_pedagogų_skaičius\"\n",
        "]\n",
        "df_selected = df.select(selected_columns)\n",
        "# Atvaizduojame juos\n",
        "df_selected.show()"
      ],
      "metadata": {
        "colab": {
          "base_uri": "https://localhost:8080/"
        },
        "id": "aDkaxPbImDCi",
        "outputId": "c5b89b25-9ff5-4d40-b4ad-0d993d6a2539"
      },
      "execution_count": null,
      "outputs": [
        {
          "output_type": "stream",
          "name": "stdout",
          "text": [
            "+---------------+---------------------------+---------------------------------------------------------------+--------------------+\n",
            "|pd_mokslo_metai|pd_institucijos_savivaldybė|pd_pedagogo_kvalifikacinė_kategorija_(aukščiausia_ir_naujausia)|pd_pedagogų_skaičius|\n",
            "+---------------+---------------------------+---------------------------------------------------------------+--------------------+\n",
            "|      2012-2013|                 Nenurodyta|                                                      Mokytojas|                   1|\n",
            "|      2012-2013|            Akmenės r. sav.|                                           Auklėtojas metodi...|                   1|\n",
            "|      2012-2013|            Akmenės r. sav.|                                           Specialusis pedag...|                   1|\n",
            "|      2012-2013|            Akmenės r. sav.|                                           Vyresnysis auklėt...|                   1|\n",
            "|      2012-2013|            Akmenės r. sav.|                                           Vyresnysis specia...|                   1|\n",
            "|      2012-2013|            Akmenės r. sav.|                                           Auklėtojas metodi...|                   1|\n",
            "|      2012-2013|            Akmenės r. sav.|                                           Vyresnysis mokytojas|                   1|\n",
            "|      2012-2013|            Akmenės r. sav.|                                           Mokytojas metodin...|                   2|\n",
            "|      2012-2013|            Akmenės r. sav.|                                                     Auklėtojas|                   7|\n",
            "|      2012-2013|            Akmenės r. sav.|                                           Auklėtojas metodi...|                   7|\n",
            "|      2012-2013|            Akmenės r. sav.|                                           Vyresnysis auklėt...|                  29|\n",
            "|      2012-2013|            Akmenės r. sav.|                                           Vyresnysis mokytojas|                   2|\n",
            "|      2012-2013|            Akmenės r. sav.|                                                      Mokytojas|                   1|\n",
            "|      2012-2013|            Akmenės r. sav.|                                           Vyresnysis mokytojas|                   2|\n",
            "|      2012-2013|            Akmenės r. sav.|                                           Auklėtojas metodi...|                   1|\n",
            "|      2012-2013|            Akmenės r. sav.|                                           Vyresnysis auklėt...|                   2|\n",
            "|      2012-2013|            Akmenės r. sav.|                                           Logopedas metodin...|                   3|\n",
            "|      2012-2013|            Akmenės r. sav.|                                           Socialinis pedagogas|                   1|\n",
            "|      2012-2013|            Akmenės r. sav.|                                           Vyresnysis logopedas|                   1|\n",
            "|      2012-2013|            Akmenės r. sav.|                                                      Logopedas|                   1|\n",
            "+---------------+---------------------------+---------------------------------------------------------------+--------------------+\n",
            "only showing top 20 rows\n",
            "\n"
          ]
        }
      ]
    },
    {
      "cell_type": "markdown",
      "source": [
        "# Paruošiame lentelę, rodančią mokytojų kiekį kiekvienoje savivaldybėje (naudojame tik tokius įrašus, kurių lauko pd_pareigu_grupe reikšmė yra \"Mokytojai\") ir yra visoje Lietuvoje."
      ],
      "metadata": {
        "id": "YGbKPL6Wk_MP"
      }
    },
    {
      "cell_type": "code",
      "source": [
        "# Išfiltruojame naujausius duomenys iš šių mokslo metų, kurie atitinka sąlyga \"Mokytojai\"\n",
        "df_filtered = df.filter((col(\"pd_mokslo_metai\") == \"2023-2024\")) # Pašalinus ar užkomentavus šią eilutę parodys visus rezultatus, rezultatai galimai dubliuosis\n",
        "df_filtered = df_filtered.filter(df_filtered[\"pd_pareigų_grupė\"] == \"Mokytojai\")\n",
        "\n",
        "# Suskaičiuojame mokytojų skaičių kiekvienoje savivaldybėje\n",
        "by_municipality = df_filtered.groupBy(\"pd_institucijos_savivaldybė\").agg({\"pd_pedagogų_skaičius\": \"sum\"})\n",
        "\n",
        "# Suskaičiuojame bendrą mokytojų skaičių Lietuvoje\n",
        "total_mokytojai = int(df_filtered.agg({\"pd_pedagogų_skaičius\": \"sum\"}).collect()[0][0])\n",
        "\n",
        "# Suskaičiuojame kiek viso turime savivaldybių\n",
        "total_unique_municipalities = df_filtered.select(\"pd_institucijos_savivaldybė\").distinct().count()\n",
        "\n",
        "# Spausdiname rezultatus\n",
        "by_municipality.show()\n",
        "print(f'Lietuvoje 2023/2024 mokslo metais dirba: {total_mokytojai} mokytojai/ų')\n",
        "print(f'Lietuvoje turime: {total_unique_municipalities} savivaldybę/ių')"
      ],
      "metadata": {
        "colab": {
          "base_uri": "https://localhost:8080/"
        },
        "id": "kckdwtD_k_1U",
        "outputId": "f4e08cd0-1878-4e73-b94a-e4572e0e05c4"
      },
      "execution_count": null,
      "outputs": [
        {
          "output_type": "stream",
          "name": "stdout",
          "text": [
            "+---------------------------+-------------------------+\n",
            "|pd_institucijos_savivaldybė|sum(pd_pedagogų_skaičius)|\n",
            "+---------------------------+-------------------------+\n",
            "|              Birštono sav.|                     53.0|\n",
            "|           Tauragės r. sav.|                    351.0|\n",
            "|            Alytaus r. sav.|                    165.0|\n",
            "|               Rietavo sav.|                     68.0|\n",
            "|             Skuodo r. sav.|                    148.0|\n",
            "|           Joniškio r. sav.|                    252.0|\n",
            "|           Kazlų Rūdos sav.|                    133.0|\n",
            "|           Mažeikių r. sav.|                    539.0|\n",
            "|           Pasvalio r. sav.|                    275.0|\n",
            "|          Klaipėdos m. sav.|                   1694.0|\n",
            "|            Jonavos r. sav.|                    357.0|\n",
            "|           Palangos m. sav.|                    236.0|\n",
            "|           Anykščių r. sav.|                    174.0|\n",
            "|          Marijampolės sav.|                    542.0|\n",
            "|           Druskininkų sav.|                    215.0|\n",
            "|          Klaipėdos r. sav.|                    377.0|\n",
            "|            Šiaulių m. sav.|                   1195.0|\n",
            "|            Kalvarijos sav.|                     96.0|\n",
            "|            Šiaulių r. sav.|                    349.0|\n",
            "|            Alytaus m. sav.|                    607.0|\n",
            "+---------------------------+-------------------------+\n",
            "only showing top 20 rows\n",
            "\n",
            "Lietuvoje 2023/2024 mokslo metais dirba: 28070 mokytojai/ų\n",
            "Lietuvoje turime: 60 savivaldybę/ių\n"
          ]
        }
      ]
    }
  ]
}