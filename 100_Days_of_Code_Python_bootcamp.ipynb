{
  "nbformat": 4,
  "nbformat_minor": 0,
  "metadata": {
    "colab": {
      "provenance": [],
      "authorship_tag": "ABX9TyM3nAeLn2BWjWy/NBJdWzVt",
      "include_colab_link": true
    },
    "kernelspec": {
      "name": "python3",
      "display_name": "Python 3"
    },
    "language_info": {
      "name": "python"
    }
  },
  "cells": [
    {
      "cell_type": "markdown",
      "metadata": {
        "id": "view-in-github",
        "colab_type": "text"
      },
      "source": [
        "<a href=\"https://colab.research.google.com/github/didesnis/colab/blob/master/100_Days_of_Code_Python_bootcamp.ipynb\" target=\"_parent\"><img src=\"https://colab.research.google.com/assets/colab-badge.svg\" alt=\"Open In Colab\"/></a>"
      ]
    },
    {
      "cell_type": "markdown",
      "source": [
        "Day #1"
      ],
      "metadata": {
        "id": "XKMfe3GQcWFp"
      }
    },
    {
      "cell_type": "code",
      "source": [
        "print(\"Welcome to Band name generator\")\n",
        "print()\n",
        "city = input('Enter City You grown up: ')\n",
        "pet = input('Enter Your pet name: ')\n",
        "print('Congrats! Your Band could be ' + city + \" \" + pet)"
      ],
      "metadata": {
        "colab": {
          "base_uri": "https://localhost:8080/"
        },
        "id": "VhhYoKvycZi2",
        "outputId": "a26e5154-e40a-443b-e4e7-97a9c50a97fd"
      },
      "execution_count": 14,
      "outputs": [
        {
          "output_type": "stream",
          "name": "stdout",
          "text": [
            "Welcome to Band name generator\n",
            "\n",
            "Enter City You grown up: Utah\n",
            "Enter Your pet name: Jazz\n",
            "Congrats! Your Band could be Utah Jazz\n"
          ]
        }
      ]
    },
    {
      "cell_type": "markdown",
      "source": [
        "Day #2\n"
      ],
      "metadata": {
        "id": "WblFPPeMtIcf"
      }
    },
    {
      "cell_type": "code",
      "source": [
        "print(\"Welcome to the tip calculator\")\n",
        "print()\n",
        "bill = float(input(\"What was the total bill?$ \"))\n",
        "tip = int(input(\"What percentage tip would you like to give? \"))\n",
        "people = int(input(\"How many people to split the bill? \"))\n",
        "percentage = (tip + 100) / 100\n",
        "total_amount = bill * percentage\n",
        "money = total_amount / people\n",
        "print(f\"Each person should pay ${money:.2f}\")\n",
        "\n",
        "\n"
      ],
      "metadata": {
        "colab": {
          "base_uri": "https://localhost:8080/"
        },
        "id": "LTSjlwdrtKKK",
        "outputId": "68c39083-4361-42bc-8bec-4f8362402ca5"
      },
      "execution_count": 24,
      "outputs": [
        {
          "output_type": "stream",
          "name": "stdout",
          "text": [
            "Welcome to the tip calculator\n",
            "\n",
            "What was the total bill?$ 132.28\n",
            "What percentage tip would you like to give? 2\n",
            "How many people to split the bill? 5\n",
            "Each person should pay $26.99\n"
          ]
        }
      ]
    },
    {
      "cell_type": "markdown",
      "source": [
        "Day #3"
      ],
      "metadata": {
        "id": "ASPw-R5_IB7a"
      }
    },
    {
      "cell_type": "code",
      "source": [
        "print('''\n",
        "*******************************************************************************\n",
        "          |                   |                  |                     |\n",
        " _________|________________.=\"\"_;=.______________|_____________________|_______\n",
        "|                   |  ,-\"_,=\"\"     `\"=.|                  |\n",
        "|___________________|__\"=._o`\"-._        `\"=.______________|___________________\n",
        "          |                `\"=._o`\"=._      _`\"=._                     |\n",
        " _________|_____________________:=._o \"=._.\"_.-=\"'\"=.__________________|_______\n",
        "|                   |    __.--\" , ; `\"=._o.\" ,-\"\"\"-._ \".   |\n",
        "|___________________|_._\"  ,. .` ` `` ,  `\"-._\"-._   \". '__|___________________\n",
        "          |           |o`\"=._` , \"` `; .\". ,  \"-._\"-._; ;              |\n",
        " _________|___________| ;`-.o`\"=._; .\" ` '`.\"\\` . \"-._ /_______________|_______\n",
        "|                   | |o;    `\"-.o`\"=._``  '` \" ,__.--o;   |\n",
        "|___________________|_| ;     [#] `-.o `\"=.`_.--\"_o.-; ;___|___________________\n",
        "____/______/______/___|o;._    \"      `\".o|o_.--\"    ;o;____/______/______/____\n",
        "/______/______/______/_\"=._o--._        ; | ;        ; ;/______/______/______/_\n",
        "____/______/______/______/__\"=._o--._   ;o|o;     _._;o;____/______/______/____\n",
        "/______/______/______/______/____\"=._o._; | ;_.--\"o.--\"_/______/______/______/_\n",
        "____/______/______/______/______/_____\"=.o|o_.--\"\"___/______/______/______/____\n",
        "/______/______/______/______/______/______/______/______/______/______/_____ /\n",
        "*******************************************************************************\n",
        "''')\n",
        "\n",
        "print(\"Welcome to Treasure Island.\")\n",
        "print(\"Your mission is to find the treasure.\")\n",
        "\n",
        "cross_road = input('You are at a crossroad. Where do you want to go? Type \"left\" or \"right\": ').lower()\n",
        "\n",
        "if cross_road == \"left\":\n",
        "    lake = input('You came to a lake. There is an island in the middle of the lake. Type \"wait\" to wait for a boat. Type \"swim\" to swim across: ').lower()\n",
        "\n",
        "    if lake == \"wait\":\n",
        "        print('It has been 2 years since you started waiting for a boat.')\n",
        "    else:\n",
        "        island = input('You successfully arrived at the island unharmed. There is a house with 3 doors: one red, one yellow, and one blue. Which color do you choose?: ').lower()\n",
        "\n",
        "        if island == \"red\":\n",
        "            print('You are so wet. Take some towels and dry yourself.')\n",
        "        elif island == \"blue\":\n",
        "            print('You have entered a room full of beasts. GAME OVER!')\n",
        "        else:\n",
        "            print(\"OMG! What a shining diamond you've found!\")\n",
        "else:\n",
        "    print('OMG! You entered the dark forest and have been lost forever.')\n",
        "\n",
        "\n",
        "\n"
      ],
      "metadata": {
        "colab": {
          "base_uri": "https://localhost:8080/"
        },
        "id": "29xU83y1IErX",
        "outputId": "a36b6d6e-7175-4872-d463-0b7d04ee8fc2"
      },
      "execution_count": 21,
      "outputs": [
        {
          "output_type": "stream",
          "name": "stdout",
          "text": [
            "\n",
            "*******************************************************************************\n",
            "          |                   |                  |                     |\n",
            " _________|________________.=\"\"_;=.______________|_____________________|_______\n",
            "|                   |  ,-\"_,=\"\"     `\"=.|                  |\n",
            "|___________________|__\"=._o`\"-._        `\"=.______________|___________________\n",
            "          |                `\"=._o`\"=._      _`\"=._                     |\n",
            " _________|_____________________:=._o \"=._.\"_.-=\"'\"=.__________________|_______\n",
            "|                   |    __.--\" , ; `\"=._o.\" ,-\"\"\"-._ \".   |\n",
            "|___________________|_._\"  ,. .` ` `` ,  `\"-._\"-._   \". '__|___________________\n",
            "          |           |o`\"=._` , \"` `; .\". ,  \"-._\"-._; ;              |\n",
            " _________|___________| ;`-.o`\"=._; .\" ` '`.\"\\` . \"-._ /_______________|_______\n",
            "|                   | |o;    `\"-.o`\"=._``  '` \" ,__.--o;   |\n",
            "|___________________|_| ;     [#] `-.o `\"=.`_.--\"_o.-; ;___|___________________\n",
            "____/______/______/___|o;._    \"      `\".o|o_.--\"    ;o;____/______/______/____\n",
            "/______/______/______/_\"=._o--._        ; | ;        ; ;/______/______/______/_\n",
            "____/______/______/______/__\"=._o--._   ;o|o;     _._;o;____/______/______/____\n",
            "/______/______/______/______/____\"=._o._; | ;_.--\"o.--\"_/______/______/______/_\n",
            "____/______/______/______/______/_____\"=.o|o_.--\"\"___/______/______/______/____\n",
            "/______/______/______/______/______/______/______/______/______/______/_____ /\n",
            "*******************************************************************************\n",
            "\n",
            "Welcome to Treasure Island.\n",
            "Your mission is to find the treasure.\n",
            "You are at a crossroad. Where do you want to go? Type \"left\" or \"right\": left\n",
            "You came to a lake. There is an island in the middle of the lake. Type \"wait\" to wait for a boat. Type \"swim\" to swim across: swim\n",
            "You successfully arrived at the island unharmed. There is a house with 3 doors: one red, one yellow, and one blue. Which color do you choose?: yellow\n",
            "OMG! What a shining diamond you've found!\n"
          ]
        }
      ]
    }
  ]
}