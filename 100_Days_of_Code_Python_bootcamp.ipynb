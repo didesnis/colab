{
  "nbformat": 4,
  "nbformat_minor": 0,
  "metadata": {
    "colab": {
      "provenance": [],
      "authorship_tag": "ABX9TyMHIpTFw6k1A+Go0WRaoJNt",
      "include_colab_link": true
    },
    "kernelspec": {
      "name": "python3",
      "display_name": "Python 3"
    },
    "language_info": {
      "name": "python"
    }
  },
  "cells": [
    {
      "cell_type": "markdown",
      "metadata": {
        "id": "view-in-github",
        "colab_type": "text"
      },
      "source": [
        "<a href=\"https://colab.research.google.com/github/didesnis/colab/blob/master/100_Days_of_Code_Python_bootcamp.ipynb\" target=\"_parent\"><img src=\"https://colab.research.google.com/assets/colab-badge.svg\" alt=\"Open In Colab\"/></a>"
      ]
    },
    {
      "cell_type": "markdown",
      "source": [
        "# Day #1"
      ],
      "metadata": {
        "id": "XKMfe3GQcWFp"
      }
    },
    {
      "cell_type": "code",
      "source": [
        "print(\"Welcome to Band name generator\")\n",
        "print()\n",
        "city = input('Enter City You grown up: ')\n",
        "pet = input('Enter Your pet name: ')\n",
        "print('Congrats! Your Band could be ' + city + \" \" + pet)"
      ],
      "metadata": {
        "colab": {
          "base_uri": "https://localhost:8080/"
        },
        "id": "VhhYoKvycZi2",
        "outputId": "a26e5154-e40a-443b-e4e7-97a9c50a97fd"
      },
      "execution_count": null,
      "outputs": [
        {
          "output_type": "stream",
          "name": "stdout",
          "text": [
            "Welcome to Band name generator\n",
            "\n",
            "Enter City You grown up: Utah\n",
            "Enter Your pet name: Jazz\n",
            "Congrats! Your Band could be Utah Jazz\n"
          ]
        }
      ]
    },
    {
      "cell_type": "markdown",
      "source": [
        "# Day #2"
      ],
      "metadata": {
        "id": "WblFPPeMtIcf"
      }
    },
    {
      "cell_type": "code",
      "source": [
        "print(\"Welcome to the tip calculator\")\n",
        "print()\n",
        "bill = float(input(\"What was the total bill?$ \"))\n",
        "tip = int(input(\"What percentage tip would you like to give? \"))\n",
        "people = int(input(\"How many people to split the bill? \"))\n",
        "percentage = (tip + 100) / 100\n",
        "total_amount = bill * percentage\n",
        "money = total_amount / people\n",
        "print(f\"Each person should pay ${money:.2f}\")"
      ],
      "metadata": {
        "colab": {
          "base_uri": "https://localhost:8080/"
        },
        "id": "LTSjlwdrtKKK",
        "outputId": "68c39083-4361-42bc-8bec-4f8362402ca5"
      },
      "execution_count": null,
      "outputs": [
        {
          "output_type": "stream",
          "name": "stdout",
          "text": [
            "Welcome to the tip calculator\n",
            "\n",
            "What was the total bill?$ 132.28\n",
            "What percentage tip would you like to give? 2\n",
            "How many people to split the bill? 5\n",
            "Each person should pay $26.99\n"
          ]
        }
      ]
    },
    {
      "cell_type": "markdown",
      "source": [
        "# Day #3"
      ],
      "metadata": {
        "id": "ASPw-R5_IB7a"
      }
    },
    {
      "cell_type": "code",
      "source": [
        "print('''\n",
        "*******************************************************************************\n",
        "          |                   |                  |                     |\n",
        " _________|________________.=\"\"_;=.______________|_____________________|_______\n",
        "|                   |  ,-\"_,=\"\"     `\"=.|                  |\n",
        "|___________________|__\"=._o`\"-._        `\"=.______________|___________________\n",
        "          |                `\"=._o`\"=._      _`\"=._                     |\n",
        " _________|_____________________:=._o \"=._.\"_.-=\"'\"=.__________________|_______\n",
        "|                   |    __.--\" , ; `\"=._o.\" ,-\"\"\"-._ \".   |\n",
        "|___________________|_._\"  ,. .` ` `` ,  `\"-._\"-._   \". '__|___________________\n",
        "          |           |o`\"=._` , \"` `; .\". ,  \"-._\"-._; ;              |\n",
        " _________|___________| ;`-.o`\"=._; .\" ` '`.\"\\` . \"-._ /_______________|_______\n",
        "|                   | |o;    `\"-.o`\"=._``  '` \" ,__.--o;   |\n",
        "|___________________|_| ;     [#] `-.o `\"=.`_.--\"_o.-; ;___|___________________\n",
        "____/______/______/___|o;._    \"      `\".o|o_.--\"    ;o;____/______/______/____\n",
        "/______/______/______/_\"=._o--._        ; | ;        ; ;/______/______/______/_\n",
        "____/______/______/______/__\"=._o--._   ;o|o;     _._;o;____/______/______/____\n",
        "/______/______/______/______/____\"=._o._; | ;_.--\"o.--\"_/______/______/______/_\n",
        "____/______/______/______/______/_____\"=.o|o_.--\"\"___/______/______/______/____\n",
        "/______/______/______/______/______/______/______/______/______/______/_____ /\n",
        "*******************************************************************************\n",
        "''')\n",
        "\n",
        "print(\"Welcome to Treasure Island.\")\n",
        "print(\"Your mission is to find the treasure.\")\n",
        "\n",
        "cross_road = input('You are at a crossroad. Where do you want to go? Type \"left\" or \"right\": ').lower()\n",
        "\n",
        "if cross_road == \"left\":\n",
        "    lake = input('You came to a lake. There is an island in the middle of the lake. Type \"wait\" to wait for a boat. Type \"swim\" to swim across: ').lower()\n",
        "\n",
        "    if lake == \"wait\":\n",
        "        print('It has been 2 years since you started waiting for a boat.')\n",
        "    else:\n",
        "        island = input('You successfully arrived at the island unharmed. There is a house with 3 doors: one red, one yellow, and one blue. Which color do you choose?: ').lower()\n",
        "\n",
        "        if island == \"red\":\n",
        "            print('You are so wet. Take some towels and dry yourself.')\n",
        "        elif island == \"blue\":\n",
        "            print('You have entered a room full of beasts. GAME OVER!')\n",
        "        else:\n",
        "            print(\"OMG! What a shining diamond you've found!\")\n",
        "else:\n",
        "    print('OMG! You entered the dark forest and have been lost forever.')"
      ],
      "metadata": {
        "colab": {
          "base_uri": "https://localhost:8080/"
        },
        "id": "29xU83y1IErX",
        "outputId": "a36b6d6e-7175-4872-d463-0b7d04ee8fc2"
      },
      "execution_count": null,
      "outputs": [
        {
          "output_type": "stream",
          "name": "stdout",
          "text": [
            "\n",
            "*******************************************************************************\n",
            "          |                   |                  |                     |\n",
            " _________|________________.=\"\"_;=.______________|_____________________|_______\n",
            "|                   |  ,-\"_,=\"\"     `\"=.|                  |\n",
            "|___________________|__\"=._o`\"-._        `\"=.______________|___________________\n",
            "          |                `\"=._o`\"=._      _`\"=._                     |\n",
            " _________|_____________________:=._o \"=._.\"_.-=\"'\"=.__________________|_______\n",
            "|                   |    __.--\" , ; `\"=._o.\" ,-\"\"\"-._ \".   |\n",
            "|___________________|_._\"  ,. .` ` `` ,  `\"-._\"-._   \". '__|___________________\n",
            "          |           |o`\"=._` , \"` `; .\". ,  \"-._\"-._; ;              |\n",
            " _________|___________| ;`-.o`\"=._; .\" ` '`.\"\\` . \"-._ /_______________|_______\n",
            "|                   | |o;    `\"-.o`\"=._``  '` \" ,__.--o;   |\n",
            "|___________________|_| ;     [#] `-.o `\"=.`_.--\"_o.-; ;___|___________________\n",
            "____/______/______/___|o;._    \"      `\".o|o_.--\"    ;o;____/______/______/____\n",
            "/______/______/______/_\"=._o--._        ; | ;        ; ;/______/______/______/_\n",
            "____/______/______/______/__\"=._o--._   ;o|o;     _._;o;____/______/______/____\n",
            "/______/______/______/______/____\"=._o._; | ;_.--\"o.--\"_/______/______/______/_\n",
            "____/______/______/______/______/_____\"=.o|o_.--\"\"___/______/______/______/____\n",
            "/______/______/______/______/______/______/______/______/______/______/_____ /\n",
            "*******************************************************************************\n",
            "\n",
            "Welcome to Treasure Island.\n",
            "Your mission is to find the treasure.\n",
            "You are at a crossroad. Where do you want to go? Type \"left\" or \"right\": left\n",
            "You came to a lake. There is an island in the middle of the lake. Type \"wait\" to wait for a boat. Type \"swim\" to swim across: swim\n",
            "You successfully arrived at the island unharmed. There is a house with 3 doors: one red, one yellow, and one blue. Which color do you choose?: yellow\n",
            "OMG! What a shining diamond you've found!\n"
          ]
        }
      ]
    },
    {
      "cell_type": "markdown",
      "source": [
        "# Day #4"
      ],
      "metadata": {
        "id": "0tqjmi1XpMGS"
      }
    },
    {
      "cell_type": "code",
      "source": [
        "import random\n",
        "rock = \"\"\"\n",
        "    _______\n",
        "---'   ____)\n",
        "      (_____)\n",
        "      (_____)\n",
        "      (____)\n",
        "---.__(___)\n",
        "\"\"\"\n",
        "\n",
        "paper = \"\"\"\n",
        "     _______\n",
        "---'    ____)____\n",
        "           ______)\n",
        "          _______)\n",
        "         _______)\n",
        "---.__________)\n",
        "\"\"\"\n",
        "\n",
        "scissors = \"\"\"\n",
        "    _______\n",
        "---'   ____)____\n",
        "          ______)\n",
        "       __________)\n",
        "      (____)\n",
        "---.__(___)\n",
        "\"\"\"\n",
        "game = [rock, paper, scissors]\n",
        "\n",
        "user_choice = int(input(\"What do you choose? Type 0 for Rock, 1 for Paper, 2 for Scissors. \\n\"))\n",
        "computer_choice = random.randint(0, 2)\n",
        "if user_choice > 2 or user_choice < 0:\n",
        "    print(\"Entered wrong number. Try again\")\n",
        "else:\n",
        "    print('Your choice')\n",
        "    print(game[user_choice])\n",
        "    print('Computer choice')\n",
        "    print(game[computer_choice])\n",
        "\n",
        "\n",
        "    if user_choice == 0 and computer_choice == 2:\n",
        "        print('You win!')\n",
        "    elif user_choice < computer_choice:\n",
        "        print('You lose!')\n",
        "    elif user_choice == 1 and computer_choice == 0:\n",
        "        print('You win!')\n",
        "    elif user_choice < computer_choice:\n",
        "        print('You lose!')\n",
        "    elif user_choice == 2 and computer_choice == 0:\n",
        "        print('You lose!')\n",
        "    elif user_choice == 2 and computer_choice == 1:\n",
        "        print('You win!')\n",
        "    elif user_choice == computer_choice:\n",
        "        print(\"It's a draw. Play again!\")"
      ],
      "metadata": {
        "colab": {
          "base_uri": "https://localhost:8080/"
        },
        "id": "cvtQ53zNpNZo",
        "outputId": "1f4fd9d3-0960-4cae-f17f-3ddb40289645"
      },
      "execution_count": null,
      "outputs": [
        {
          "output_type": "stream",
          "name": "stdout",
          "text": [
            "What do you choose? Type 0 for Rock, 1 for Paper, 2 for Scissors. \n",
            "2\n",
            "Your choice\n",
            "\n",
            "    _______\n",
            "---'   ____)____\n",
            "          ______)\n",
            "       __________)\n",
            "      (____)\n",
            "---.__(___)\n",
            "\n",
            "Computer choice\n",
            "\n",
            "    _______\n",
            "---'   ____)____\n",
            "          ______)\n",
            "       __________)\n",
            "      (____)\n",
            "---.__(___)\n",
            "\n",
            "It's a draw. Play again!\n"
          ]
        }
      ]
    },
    {
      "cell_type": "markdown",
      "source": [
        "# Day #5"
      ],
      "metadata": {
        "id": "EjtCBhHFA248"
      }
    },
    {
      "cell_type": "code",
      "source": [
        "import random\n",
        "print(\"Welcome to Password generator\")\n",
        "letters_lower = ['a', 'b', 'c', 'd', 'e', 'f', 'g', 'h', 'i', 'j', 'k', 'l', 'm', 'n',\n",
        "                 'o', 'p', 'q', 'r', 's', 't', 'u', 'v', 'w', 'x', 'y', 'z']\n",
        "letters_upper = ['A', 'B', 'C', 'D', 'E', 'F', 'G', 'H', 'I', 'J', 'K', 'L', 'M', 'N',\n",
        "                 'O', 'P', 'Q', 'R', 'S', 'T', 'U', 'V', 'W', 'X', 'Y', 'Z']\n",
        "numbers = ['0', '1', '2', '3', '4', '5', '6', '7', '8', '9']\n",
        "symbols = ['!', '@', '#', '$', '%', '^', '&', '*', '(', ')', '_', '-', '+', '=', '?']\n",
        "\n",
        "password_list = []\n",
        "\n",
        "password_length = int(input('How many symbols should your password be?\\n'))\n",
        "\n",
        "password_letters = input('Include lowercase letters? Yes / No\\n').lower()\n",
        "if password_letters == 'yes':\n",
        "    password_list.extend(letters_lower)\n",
        "\n",
        "password_letters = input('Include capitalised letters? Yes / No\\n').lower()\n",
        "if password_letters == 'yes':\n",
        "    password_list.extend(letters_upper)\n",
        "\n",
        "password_numbers = input('Include numbers? Yes / No \\n').lower()\n",
        "if password_numbers == 'yes':\n",
        "    password_list.extend(numbers)\n",
        "\n",
        "password_symbols = input('Include special symbols? Yes / No\\n')\n",
        "if password_symbols == 'yes':\n",
        "    password_list.extend(symbols)\n",
        "\n",
        "random.shuffle(password_list)\n",
        "generated_password = ''\n",
        "\n",
        "for _ in range(password_length + 1):\n",
        "    generated_password += random.choice(password_list)\n",
        "\n",
        "print('Your generated password is:', generated_password)"
      ],
      "metadata": {
        "colab": {
          "base_uri": "https://localhost:8080/"
        },
        "id": "X2jTw2cFA2KU",
        "outputId": "a6798ed8-9f8a-450d-b8ea-25031f2de48d"
      },
      "execution_count": null,
      "outputs": [
        {
          "output_type": "stream",
          "name": "stdout",
          "text": [
            "Welcome to Password generator\n",
            "How many symbols should your password be?\n",
            "20\n",
            "Include lowercase letters? Yes / No\n",
            "Yes\n",
            "Include capitalised letters? Yes / No\n",
            "yEs\n",
            "Include numbers? Yes / No \n",
            "YES\n",
            "Include special symbols? Yes / No\n",
            "yes\n",
            "Your generated password is: uj)nN6Vnzc+%e*AO6Db$c\n"
          ]
        }
      ]
    },
    {
      "cell_type": "markdown",
      "source": [
        "# Day #6"
      ],
      "metadata": {
        "id": "Q8Dvd8ScICzB"
      }
    },
    {
      "cell_type": "code",
      "source": [
        "https://shorturl.at/irzH4\n",
        "MAZE\n",
        "\n",
        "def right():\n",
        "    turn_left()\n",
        "    turn_left()\n",
        "    turn_left()\n",
        "    move()\n",
        "\n",
        "while front_is_clear():\n",
        "    move()\n",
        "turn_left()\n",
        "\n",
        "while not at_goal():\n",
        "    if right_is_clear():\n",
        "        right()\n",
        "    elif front_is_clear():\n",
        "        move()\n",
        "    elif wall_in_front():\n",
        "        turn_left()"
      ],
      "metadata": {
        "id": "EEDpfeH7IG8h"
      },
      "execution_count": null,
      "outputs": []
    },
    {
      "cell_type": "markdown",
      "source": [
        "# Day #7"
      ],
      "metadata": {
        "id": "LZph-3vOiAQk"
      }
    },
    {
      "cell_type": "code",
      "source": [
        "print(\"\"\"\n",
        " _\n",
        "| |\n",
        "| |__   __ _ _ __   __ _ _ __ ___   __ _ _ __\n",
        "| '_ \\ / _` | '_ \\ / _` | '_ ` _ \\ / _` | '_ \\\n",
        "| | | | (_| | | | | (_| | | | | | | (_| | | | |\n",
        "|_| |_|\\__,_|_| |_|\\__, |_| |_| |_|\\__,_|_| |_|\n",
        "                    __/ |\n",
        "                   |___/\n",
        "\"\"\")"
      ],
      "metadata": {
        "id": "B4aL-DZ6iCWv"
      },
      "execution_count": null,
      "outputs": []
    },
    {
      "cell_type": "markdown",
      "source": [
        "# Day #8"
      ],
      "metadata": {
        "id": "CtfPWFDldGQ5"
      }
    },
    {
      "cell_type": "code",
      "source": [
        "print(\"\"\"\n",
        " ,adPPYba, ,adPPYYba,  ,adPPYba, ,adPPYba, ,adPPYYba, 8b,dPPYba,\n",
        "a8\"     \"\" \"\"     `Y8 a8P_____88 I8[    \"\" \"\"     `Y8 88P'   \"Y8\n",
        "8b         ,adPPPPP88 8PP\"\"\"\"\"\"\"  `\"Y8ba,  ,adPPPPP88 88\n",
        "\"8a,   ,aa 88,    ,88 \"8b,   ,aa aa    ]8I 88,    ,88 88\n",
        " `\"Ybbd8\"' `\"8bbdP\"Y8  `\"Ybbd8\"' `\"YbbdP\"' `\"8bbdP\"Y8 88\n",
        "\n",
        "            88             88\n",
        "           \"\"             88\n",
        "                          88\n",
        " ,adPPYba, 88 8b,dPPYba,  88,dPPYba,   ,adPPYba, 8b,dPPYba,\n",
        "a8\"     \"\" 88 88P'    \"8a 88P'    \"8a a8P_____88 88P'   \"Y8\n",
        "8b         88 88       d8 88       88 8PP\"\"\"\"\"\"\" 88\n",
        "\"8a,   ,aa 88 88b,   ,a8\" 88       88 \"8b,   ,aa 88\n",
        " `\"Ybbd8\"' 88 88`YbbdP\"'  88       88  `\"Ybbd8\"' 88\n",
        "              88\n",
        "              88\n",
        "\"\"\")"
      ],
      "metadata": {
        "id": "rvzCxxSddzsJ"
      },
      "execution_count": null,
      "outputs": []
    },
    {
      "cell_type": "markdown",
      "source": [
        "# Day #9"
      ],
      "metadata": {
        "id": "-Tb5BH8SeK0t"
      }
    },
    {
      "cell_type": "code",
      "source": [
        "logo = \"\"\"\n",
        "                         ___________\n",
        "                         \\         /\n",
        "                          )_______(\n",
        "                          |\"\"\"\"\"\"\"|_.-._,.---------.,_.-._\n",
        "                          |       | | |               | | ''-.\n",
        "                          |       |_| |_             _| |_..-'\n",
        "                          |_______| '-' `'---------'` '-'\n",
        "                          )\"\"\"\"\"\"\"(\n",
        "                         |_________|\n",
        "                         ''-------''\n",
        "                       .-------------.\n",
        "                      |_______________|\n",
        "\"\"\""
      ],
      "metadata": {
        "id": "Ey0UW4yhDGJE"
      },
      "execution_count": null,
      "outputs": []
    }
  ]
}