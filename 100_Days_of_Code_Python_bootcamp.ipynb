{
  "nbformat": 4,
  "nbformat_minor": 0,
  "metadata": {
    "colab": {
      "provenance": [],
      "authorship_tag": "ABX9TyOpQxpIv/NpQ56voCrhmmu7",
      "include_colab_link": true
    },
    "kernelspec": {
      "name": "python3",
      "display_name": "Python 3"
    },
    "language_info": {
      "name": "python"
    }
  },
  "cells": [
    {
      "cell_type": "markdown",
      "metadata": {
        "id": "view-in-github",
        "colab_type": "text"
      },
      "source": [
        "<a href=\"https://colab.research.google.com/github/didesnis/colab/blob/master/100_Days_of_Code_Python_bootcamp.ipynb\" target=\"_parent\"><img src=\"https://colab.research.google.com/assets/colab-badge.svg\" alt=\"Open In Colab\"/></a>"
      ]
    },
    {
      "cell_type": "markdown",
      "source": [
        "Day #1"
      ],
      "metadata": {
        "id": "XKMfe3GQcWFp"
      }
    },
    {
      "cell_type": "code",
      "source": [
        "print(\"Welcome to Band name generator\")\n",
        "\n",
        "city = input('Enter City You grown up: ')\n",
        "pet = input('Enter Your pet name: ')\n",
        "print('Congrats! Your Band could be ' + city + \" \" + pet)"
      ],
      "metadata": {
        "colab": {
          "base_uri": "https://localhost:8080/"
        },
        "id": "VhhYoKvycZi2",
        "outputId": "d5d0af9a-e318-440b-cb16-5c86527b2287"
      },
      "execution_count": 4,
      "outputs": [
        {
          "output_type": "stream",
          "name": "stdout",
          "text": [
            "Welcome to Band name generator\n",
            "Enter City You grown up: Las Vegas\n",
            "Enter Your pet name: Bear\n",
            "Congrats! Your Band could be Las Vegas Bear\n"
          ]
        }
      ]
    },
    {
      "cell_type": "markdown",
      "source": [
        "Day #2\n"
      ],
      "metadata": {
        "id": "WblFPPeMtIcf"
      }
    },
    {
      "cell_type": "code",
      "source": [
        "print(\"Welcome to the tip calculator\")\n",
        "bill = float(input(\"What was the total bill? $ \"))\n",
        "tip = int(input(\"What percentage tip would you like to give? \"))\n",
        "people = int(input(\"How many people to split the bill? \"))\n",
        "\n",
        "percentage = float(tip + 100) / 100\n",
        "money = bill + (bill * percentage) / people\n",
        "print(f\"Each person should pay ${money:.2f}\")"
      ],
      "metadata": {
        "colab": {
          "base_uri": "https://localhost:8080/"
        },
        "id": "LTSjlwdrtKKK",
        "outputId": "9b6940c9-993c-4e07-93e7-0e397d562d9e"
      },
      "execution_count": 13,
      "outputs": [
        {
          "output_type": "stream",
          "name": "stdout",
          "text": [
            "Welcome to the tip calculator\n",
            "What was the total bill? $ 100\n",
            "What percentage tip would you like to give? 10\n",
            "How many people to split the bill? 10\n",
            "Each person should pay $111.00\n"
          ]
        }
      ]
    }
  ]
}